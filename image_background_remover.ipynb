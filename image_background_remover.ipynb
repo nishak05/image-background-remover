{
  "nbformat": 4,
  "nbformat_minor": 0,
  "metadata": {
    "colab": {
      "provenance": []
    },
    "kernelspec": {
      "name": "python3",
      "display_name": "Python 3"
    },
    "language_info": {
      "name": "python"
    }
  },
  "cells": [
    {
      "cell_type": "code",
      "execution_count": null,
      "metadata": {
        "id": "uMiD3ZwF-7RO"
      },
      "outputs": [],
      "source": [
        "import cv2\n",
        "import numpy as np\n",
        "import mediapipe as mp"
      ]
    },
    {
      "cell_type": "code",
      "source": [
        "segm=mp.solutions.selfie_segmentation.SelfieSegmentation(model_selection=1)"
      ],
      "metadata": {
        "id": "GhX_lKwz-7-4"
      },
      "execution_count": null,
      "outputs": []
    },
    {
      "cell_type": "code",
      "source": [
        "background=cv2.imread('black_background.jpg')"
      ],
      "metadata": {
        "id": "rFmz-lHz--sc"
      },
      "execution_count": null,
      "outputs": []
    },
    {
      "cell_type": "code",
      "source": [
        "img=cv2.imread('horse.jpg')"
      ],
      "metadata": {
        "id": "Xk67YSaN--2o"
      },
      "execution_count": null,
      "outputs": []
    },
    {
      "cell_type": "code",
      "source": [
        "h,w,channel=img.shape\n",
        "RGB=cv2.cvtColor(img,cv2.COLOR_BGR2RGB)"
      ],
      "metadata": {
        "id": "oHX1JpN3_FkE"
      },
      "execution_count": null,
      "outputs": []
    },
    {
      "cell_type": "code",
      "source": [
        "results=segm.process(RGB)\n",
        "mask=results.segmentation_mask"
      ],
      "metadata": {
        "id": "m2KR-xcK_IGg"
      },
      "execution_count": null,
      "outputs": []
    },
    {
      "cell_type": "code",
      "source": [
        "rsm=np.stack((mask,)*3,axis=-1)\n",
        "condition=rsm>0.6\n",
        "condition=np.reshape(condition,(h,w,3))"
      ],
      "metadata": {
        "id": "Rd8oxwnm_LQE"
      },
      "execution_count": null,
      "outputs": []
    },
    {
      "cell_type": "code",
      "source": [
        "background=cv2.resize(background,(w,h))"
      ],
      "metadata": {
        "id": "tjjfxZeH_ODe"
      },
      "execution_count": null,
      "outputs": []
    },
    {
      "cell_type": "code",
      "source": [
        "output=np.where(condition,img,background)"
      ],
      "metadata": {
        "id": "GIhq1RQe_Rh7"
      },
      "execution_count": null,
      "outputs": []
    },
    {
      "cell_type": "code",
      "source": [
        "cv2.imshow('output',output)"
      ],
      "metadata": {
        "id": "v3FpMjqE_T6Z"
      },
      "execution_count": null,
      "outputs": []
    },
    {
      "cell_type": "code",
      "source": [
        "cv2.waitKey(0)\n",
        "cv2.destroyAllWindows()"
      ],
      "metadata": {
        "id": "Z7BRoEPd_YeP"
      },
      "execution_count": null,
      "outputs": []
    }
  ]
}